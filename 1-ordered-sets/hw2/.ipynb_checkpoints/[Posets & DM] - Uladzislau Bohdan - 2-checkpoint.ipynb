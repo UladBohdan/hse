{
 "cells": [
  {
   "cell_type": "markdown",
   "metadata": {},
   "source": [
    "## Home assignment #2\n",
    "\n",
    "### Uladzislau Bohdan / Владислав Богдан"
   ]
  },
  {
   "cell_type": "markdown",
   "metadata": {},
   "source": [
    "### Task 1\n",
    "\n",
    "To compute all formal concepts.\n",
    "\n",
    "The formal context is given to us using a table. Airlines are objects; continents and countries are attributes.\n",
    "\n",
    "The following code is to compute all formal concepts and to output a number of them:"
   ]
  },
  {
   "cell_type": "code",
   "execution_count": 4,
   "metadata": {},
   "outputs": [
    {
     "name": "stdout",
     "output_type": "stream",
     "text": [
      "Number of formal concepts found:  25\n",
      "The formal concepts found are: \n",
      "  objects: [1 1 1 0 1 0 1 1 1 1 1 1 1]  attributes: [0 0 0 0 0 0 0 0 1]\n",
      "  objects: [1 1 1 1 1 0 1 0 1 1 1 1 1]  attributes: [0 0 0 1 0 0 0 0 0]\n",
      "  objects: [1 0 0 0 1 0 1 1 0 1 0 1 0]  attributes: [0 0 1 0 0 0 0 0 1]\n",
      "  objects: [1 1 1 0 1 1 1 0 1 1 1 1 1]  attributes: [0 1 0 0 0 0 0 0 0]\n",
      "  objects: [1 1 1 0 1 0 1 0 1 1 1 1 1]  attributes: [0 1 0 1 0 0 0 0 1]\n",
      "  objects: [0 0 0 0 1 0 1 0 1 1 0 0 1]  attributes: [0 1 0 1 0 1 0 0 1]\n",
      "  objects: [1 0 0 0 1 0 1 0 0 1 0 1 0]  attributes: [0 1 1 1 0 0 0 0 1]\n",
      "  objects: [1 0 0 0 1 0 1 0 0 1 0 0 0]  attributes: [0 1 1 1 1 0 0 0 1]\n",
      "  objects: [0 0 0 0 1 0 1 0 0 1 0 0 0]  attributes: [0 1 1 1 1 1 0 0 1]\n",
      "  objects: [1 0 0 0 0 0 1 1 1 0 1 1 1]  attributes: [1 0 0 0 0 0 0 0 1]\n",
      "  objects: [1 0 0 0 0 0 0 1 0 0 1 1 0]  attributes: [1 0 0 0 0 0 0 1 1]\n",
      "  objects: [1 0 0 0 0 0 1 1 0 0 0 1 1]  attributes: [1 0 0 0 0 0 1 0 1]\n",
      "  objects: [1 0 0 0 0 0 1 1 0 0 0 1 0]  attributes: [1 0 1 0 0 0 1 0 1]\n",
      "  objects: [1 0 0 0 0 0 0 1 0 0 0 1 0]  attributes: [1 0 1 0 0 0 1 1 1]\n",
      "  objects: [1 0 0 0 0 0 1 0 1 0 1 1 1]  attributes: [1 1 0 1 0 0 0 0 1]\n",
      "  objects: [1 0 0 0 0 0 0 0 0 0 1 1 0]  attributes: [1 1 0 1 0 0 0 1 1]\n",
      "  objects: [1 0 0 0 0 0 1 0 0 0 0 1 1]  attributes: [1 1 0 1 0 0 1 0 1]\n",
      "  objects: [0 0 0 0 0 0 1 0 1 0 0 0 1]  attributes: [1 1 0 1 0 1 0 0 1]\n",
      "  objects: [0 0 0 0 0 0 1 0 0 0 0 0 1]  attributes: [1 1 0 1 0 1 1 0 1]\n",
      "  objects: [1 0 0 0 0 0 1 0 0 0 0 1 0]  attributes: [1 1 1 1 0 0 1 0 1]\n",
      "  objects: [1 0 0 0 0 0 0 0 0 0 0 1 0]  attributes: [1 1 1 1 0 0 1 1 1]\n",
      "  objects: [1 0 0 0 0 0 1 0 0 0 0 0 0]  attributes: [1 1 1 1 1 0 1 0 1]\n",
      "  objects: [1 0 0 0 0 0 0 0 0 0 0 0 0]  attributes: [1 1 1 1 1 0 1 1 1]\n",
      "  objects: [0 0 0 0 0 0 1 0 0 0 0 0 0]  attributes: [1 1 1 1 1 1 1 0 1]\n",
      "  objects: [0 0 0 0 0 0 0 0 0 0 0 0 0]  attributes: [0 0 0 0 0 0 0 0 0]\n"
     ]
    }
   ],
   "source": [
    "import numpy as np\n",
    "import itertools\n",
    "\n",
    "data = np.array([[1, 1, 1, 1, 1, 0, 1, 1, 1],\n",
    "                 [0, 1, 0, 1, 0, 0, 0, 0, 1],\n",
    "                 [0, 1, 0, 1, 0, 0, 0, 0, 1],\n",
    "                 [0, 0, 0, 1, 0, 0, 0, 0, 0],\n",
    "                 [0, 1, 1, 1, 1, 1, 0, 0, 1],\n",
    "                 [0, 1, 0, 0, 0, 0, 0, 0, 0],\n",
    "                 [1, 1, 1, 1, 1, 1, 1, 0, 1],\n",
    "                 [1, 0, 1, 0, 0, 0, 1, 1, 1],\n",
    "                 [1, 1, 0, 1, 0, 1, 0, 0, 1],\n",
    "                 [0, 1, 1, 1, 1, 1, 0, 0, 1],\n",
    "                 [1, 1, 0, 1, 0, 0, 0, 1, 1],\n",
    "                 [1, 1, 1, 1, 0, 0, 1, 1, 1],\n",
    "                 [1, 1, 0, 1, 0, 1, 1, 0, 1]])\n",
    "\n",
    "n = data.shape[0]\n",
    "\n",
    "m = data.shape[1]\n",
    "all_attribute_subsets = list(map(list, itertools.product([0, 1], repeat=m)))\n",
    "\n",
    "formal_concepts = []\n",
    "\n",
    "formal_concepts.append([np.zeros(n, dtype=int), np.zeros(m, dtype=int)])\n",
    "\n",
    "def check_subsets(attribute_subset):\n",
    "    a = np.ones(n, dtype=int)\n",
    "    a_changed = False\n",
    "    for j in range(m):\n",
    "        if attribute_subset[j] == 1:\n",
    "            a = np.logical_and(a, data.transpose()[j])\n",
    "            a_changed = True\n",
    "    if not a_changed:\n",
    "        return\n",
    "    object_subset = a\n",
    "    \n",
    "    b = np.ones(m)\n",
    "    b_changed = False\n",
    "    for i in range(n):\n",
    "        if object_subset[i] == 1:\n",
    "            b = np.logical_and(b, data[i])\n",
    "            b_changed = True\n",
    "    if not b_changed:\n",
    "        return\n",
    "        \n",
    "    if not np.array_equal(object_subset, a) or not np.array_equal(attribute_subset, b):\n",
    "        return\n",
    "    \n",
    "    formal_concepts.append([object_subset.astype(int), np.asarray(attribute_subset, dtype=int)])\n",
    "\n",
    "for attribute_subset in all_attribute_subsets:\n",
    "    check_subsets(attribute_subset)\n",
    "\n",
    "print(\"Number of formal concepts found: \", len(formal_concepts))\n",
    "print(\"The formal concepts found are: \")\n",
    "for fc in formal_concepts:\n",
    "    print(\"  objects: %s  attributes: %s\" % (fc[0], fc[1]))"
   ]
  },
  {
   "cell_type": "markdown",
   "metadata": {},
   "source": [
    "### Task 2\n",
    "Which are the lattices? Are there any complete lattices?\n",
    "![Lattices](img/lattice.png)"
   ]
  },
  {
   "cell_type": "markdown",
   "metadata": {},
   "source": [
    "An ordered set is a lattice if any pair of elements has infimum and supremum. This is true for samples $(ii)$, $(iii)$ and $(iv)$ (this is easy to check due to a small size of the sets).\n",
    "\n",
    "However, it is not true for two other sets.\n",
    "\n",
    "$(i)$. Let's enumerate vertices from top to bottom, left to right, and consider subset {4, 5}. Upper bound for {4, 5} is {1, 2, 3} then, but because {1, 2, 3} has no minimum (2 and 3 are incomparable) - there's no supremum. Therefore, $(i)$ is not a lattice.\n",
    "\n",
    "$(v)$. Let's enumerate vertices in the same way again: top to bottom, left to right. Two upmost vertices (1, 2) are incomparable between each other and there's no supremum for a subset {1, 2} - drawing is not a lattice.\n",
    "\n",
    "All sets which are lattices: $(ii)$ - $(iv)$, are also complete lattices because they are finite."
   ]
  },
  {
   "cell_type": "markdown",
   "metadata": {},
   "source": [
    "### Task 3\n",
    "\n",
    "$(L, \\leq)$ - a lattice with supremum and infimum defined. $x, y \\in L$"
   ]
  },
  {
   "cell_type": "markdown",
   "metadata": {},
   "source": [
    "**a)** $ x \\lor x = sup(x, x) = $ \\[ $sup$ is the smallest value of an upper bound for {x}, which is a set of elements which are greater or equal than $x$ $\\Rightarrow$ $sup$ of an element equals to the element \\] $ = x $\n",
    "\n",
    "**b)** $ x \\lor (x \\land y ) = sup (x, inf (x, y)) = $ \\[ $ inf(x, y) \\leq x $ by definition of infimum, then by defition of $ sup $ \\] $ = x $\n",
    "\n",
    "**c)** The definition of $sup$ on a set has nothing to do with the order of the element; therefore for two-element set $(x, y)$ operation is commutative: $x \\lor y = sup(x,y) = sup(y,x) = y \\lor x$."
   ]
  }
 ],
 "metadata": {
  "kernelspec": {
   "display_name": "Python 3",
   "language": "python",
   "name": "python3"
  },
  "language_info": {
   "codemirror_mode": {
    "name": "ipython",
    "version": 3
   },
   "file_extension": ".py",
   "mimetype": "text/x-python",
   "name": "python",
   "nbconvert_exporter": "python",
   "pygments_lexer": "ipython3",
   "version": "3.6.5"
  }
 },
 "nbformat": 4,
 "nbformat_minor": 2
}
